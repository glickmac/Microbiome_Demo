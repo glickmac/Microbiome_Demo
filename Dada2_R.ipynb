{
 "cells": [
  {
   "cell_type": "markdown",
   "metadata": {},
   "source": [
    "## Dada2 R Microbiome Tutorial\n",
    "If the required packages are not on your system please uncomment and run the first chunk. "
   ]
  },
  {
   "cell_type": "code",
   "execution_count": null,
   "metadata": {},
   "outputs": [],
   "source": [
    "## Download Libraries\n",
    "#source(\"https://bioconductor.org/biocLite.R\")\n",
    "#biocLite(\"dada2\")\n",
    "#biocLite(\"phyloseq\")\n",
    "#install.packages(\"RColorBrewer\")\n",
    "#install.packages(\"ggplot2\")"
   ]
  },
  {
   "cell_type": "code",
   "execution_count": 1,
   "metadata": {},
   "outputs": [
    {
     "name": "stderr",
     "output_type": "stream",
     "text": [
      "Loading required package: Rcpp\n"
     ]
    }
   ],
   "source": [
    "## Load Required Packages\n",
    "library(dada2)\n",
    "library(phyloseq)\n",
    "library(ggplot2)\n",
    "library(RColorBrewer)"
   ]
  },
  {
   "cell_type": "code",
   "execution_count": 2,
   "metadata": {},
   "outputs": [
    {
     "data": {
      "text/html": [
       "<ol class=list-inline>\n",
       "\t<li>'database'</li>\n",
       "\t<li>'filtered'</li>\n",
       "\t<li>'trimmed_mock_R1.fastq.gz'</li>\n",
       "\t<li>'trimmed_mock_R2.fastq.gz'</li>\n",
       "</ol>\n"
      ],
      "text/latex": [
       "\\begin{enumerate*}\n",
       "\\item 'database'\n",
       "\\item 'filtered'\n",
       "\\item 'trimmed\\_mock\\_R1.fastq.gz'\n",
       "\\item 'trimmed\\_mock\\_R2.fastq.gz'\n",
       "\\end{enumerate*}\n"
      ],
      "text/markdown": [
       "1. 'database'\n",
       "2. 'filtered'\n",
       "3. 'trimmed_mock_R1.fastq.gz'\n",
       "4. 'trimmed_mock_R2.fastq.gz'\n",
       "\n",
       "\n"
      ],
      "text/plain": [
       "[1] \"database\"                 \"filtered\"                \n",
       "[3] \"trimmed_mock_R1.fastq.gz\" \"trimmed_mock_R2.fastq.gz\""
      ]
     },
     "metadata": {},
     "output_type": "display_data"
    }
   ],
   "source": [
    "## Set path to forward and reverse reads\n",
    "path = \"./data\"\n",
    "list.files(path)"
   ]
  },
  {
   "cell_type": "code",
   "execution_count": 4,
   "metadata": {},
   "outputs": [],
   "source": [
    "fnFS = sort(list.files(path, pattern = \"R1.fastq\"))\n",
    "fnRs = sort(list.files(path, pattern = \"R2.fastq\"))\n",
    "\n",
    "samp_names = sapply(strsplit(fnFS, \"_\"), `[`,2)\n",
    "\n",
    "fnFS = file.path(path, fnFS)\n",
    "fnRs = file.path(path, fnRs)"
   ]
  },
  {
   "cell_type": "markdown",
   "metadata": {},
   "source": [
    "#### Create new files for filtered reads"
   ]
  },
  {
   "cell_type": "code",
   "execution_count": 5,
   "metadata": {},
   "outputs": [],
   "source": [
    "filt_path = file.path(path, \"filtered\")\n",
    "filtFs = file.path(filt_path, paste0(samp_names, \"_F_filt.fastq.gz\"))\n",
    "filtRs = file.path(filt_path, paste0(samp_names, \"_R_filt.fastq.gz\"))"
   ]
  },
  {
   "cell_type": "markdown",
   "metadata": {},
   "source": [
    "### Filter and Trim Function\n",
    "* The Filter and Trim Function allows a user to truncate reads by set lengths. In this demo, we are trimming to 230 base pairs for both forward and reverse reads. \n",
    "* rm.phix maps and removes reads that align with phiX contamination.\n",
    "* maxEE (Not used) sets the maximum number of expected errors in a read. [More Information](http://www.drive5.com/usearch/manual/expected_errors.html)\n",
    "\n"
   ]
  },
  {
   "cell_type": "code",
   "execution_count": 6,
   "metadata": {},
   "outputs": [
    {
     "data": {
      "text/html": [
       "<table>\n",
       "<thead><tr><th></th><th scope=col>reads.in</th><th scope=col>reads.out</th></tr></thead>\n",
       "<tbody>\n",
       "\t<tr><th scope=row>trimmed_mock_R1.fastq.gz</th><td>22516</td><td>22515</td></tr>\n",
       "</tbody>\n",
       "</table>\n"
      ],
      "text/latex": [
       "\\begin{tabular}{r|ll}\n",
       "  & reads.in & reads.out\\\\\n",
       "\\hline\n",
       "\ttrimmed\\_mock\\_R1.fastq.gz & 22516 & 22515\\\\\n",
       "\\end{tabular}\n"
      ],
      "text/markdown": [
       "\n",
       "| <!--/--> | reads.in | reads.out | \n",
       "|---|\n",
       "| trimmed_mock_R1.fastq.gz | 22516 | 22515 | \n",
       "\n",
       "\n"
      ],
      "text/plain": [
       "                         reads.in reads.out\n",
       "trimmed_mock_R1.fastq.gz 22516    22515    "
      ]
     },
     "metadata": {},
     "output_type": "display_data"
    }
   ],
   "source": [
    "out = filterAndTrim(fnFS, filtFs, fnRs, filtRs, truncLen = c(230, 230),maxN = 0,truncQ = 2,rm.phix = TRUE,compress = TRUE,multithread = TRUE)\n",
    "head(out)"
   ]
  },
  {
   "cell_type": "markdown",
   "metadata": {},
   "source": [
    "### Learn Error Rate\n",
    "\n",
    "Dada2 depends on a parametric error model within each amplicon dataset. The error rate is determined by alternating estimates of error rate and infering sample composition until they converge. The inital estimate of an error rate is that all sequences other than the most abundant are errors. "
   ]
  },
  {
   "cell_type": "code",
   "execution_count": 7,
   "metadata": {},
   "outputs": [
    {
     "name": "stdout",
     "output_type": "stream",
     "text": [
      "Initializing error rates to maximum possible estimate.\n",
      "Sample 1 - 22515 reads in 9642 unique sequences.\n",
      "   selfConsist step 2 \n",
      "   selfConsist step 3 \n",
      "   selfConsist step 4 \n",
      "Convergence after  4  rounds.\n",
      "Total reads used:  22515 \n"
     ]
    }
   ],
   "source": [
    "errF = learnErrors(filtFs, multithread = T)"
   ]
  },
  {
   "cell_type": "code",
   "execution_count": 8,
   "metadata": {},
   "outputs": [
    {
     "name": "stdout",
     "output_type": "stream",
     "text": [
      "Initializing error rates to maximum possible estimate.\n",
      "Sample 1 - 22515 reads in 15098 unique sequences.\n",
      "   selfConsist step 2 \n",
      "   selfConsist step 3 \n",
      "   selfConsist step 4 \n",
      "Convergence after  4  rounds.\n",
      "Total reads used:  22515 \n"
     ]
    }
   ],
   "source": [
    "errR = learnErrors(filtRs, multithread = T)"
   ]
  },
  {
   "cell_type": "markdown",
   "metadata": {},
   "source": [
    "### Dereplicate\n",
    "This function bins reads into unique sequence categories to reduce the computational overhead of variant comparisons. "
   ]
  },
  {
   "cell_type": "code",
   "execution_count": 9,
   "metadata": {},
   "outputs": [
    {
     "name": "stderr",
     "output_type": "stream",
     "text": [
      "Dereplicating sequence entries in Fastq file: ./data/filtered/mock_F_filt.fastq.gz\n",
      "Encountered 9642 unique sequences from 22515 total sequences read.\n",
      "Dereplicating sequence entries in Fastq file: ./data/filtered/mock_R_filt.fastq.gz\n",
      "Encountered 15098 unique sequences from 22515 total sequences read.\n",
      "Warning message in `names<-`(`*tmp*`, value = \"mock\"):\n",
      "“derep-class objects cannot be renamed.”Warning message in `names<-`(`*tmp*`, value = \"mock\"):\n",
      "“derep-class objects cannot be renamed.”"
     ]
    }
   ],
   "source": [
    "derepFs = derepFastq(filtFs, verbose = T)\n",
    "derepRs = derepFastq(filtRs, verbose = T)\n",
    "\n",
    "names(derepFs) = samp_names\n",
    "names(derepRs) = samp_names"
   ]
  },
  {
   "cell_type": "markdown",
   "metadata": {},
   "source": [
    "### Run Core Denoising Algorithm and Merging\n",
    "\n",
    "The Dada2 algorithm uses a p-value threshold that compares each unique bin to another more prevelant variant. The learned error rate in conjunction with the abundance information of the bin is used to determine if a sequence is a real sequence variant or mearly an error/point mutation."
   ]
  },
  {
   "cell_type": "code",
   "execution_count": 10,
   "metadata": {},
   "outputs": [
    {
     "name": "stdout",
     "output_type": "stream",
     "text": [
      "Sample 1 - 22515 reads in 9642 unique sequences.\n",
      "Sample 1 - 22515 reads in 15098 unique sequences.\n"
     ]
    },
    {
     "name": "stderr",
     "output_type": "stream",
     "text": [
      "21975 paired-reads (in 18 unique pairings) successfully merged out of 22515 (in 49 pairings) input.\n",
      "The sequences being tabled vary in length.\n"
     ]
    },
    {
     "data": {
      "text/html": [
       "<ol class=list-inline>\n",
       "\t<li>1</li>\n",
       "\t<li>18</li>\n",
       "</ol>\n"
      ],
      "text/latex": [
       "\\begin{enumerate*}\n",
       "\\item 1\n",
       "\\item 18\n",
       "\\end{enumerate*}\n"
      ],
      "text/markdown": [
       "1. 1\n",
       "2. 18\n",
       "\n",
       "\n"
      ],
      "text/plain": [
       "[1]  1 18"
      ]
     },
     "metadata": {},
     "output_type": "display_data"
    }
   ],
   "source": [
    "dadaFs = dada(derepFs, err = errF, multithread = T)\n",
    "dadaRs = dada(derepRs, err = errR, multithread = T)\n",
    "mergers = mergePairs(dadaFs, derepFs, dadaRs, derepRs, verbose = T)\n",
    "seqtab = makeSequenceTable(mergers)\n",
    "dim(seqtab)"
   ]
  },
  {
   "cell_type": "code",
   "execution_count": 10,
   "metadata": {},
   "outputs": [
    {
     "data": {
      "text/plain": [
       "\n",
       "356 365 373 374 375 \n",
       "  1   1   3   2  11 "
      ]
     },
     "metadata": {},
     "output_type": "display_data"
    }
   ],
   "source": [
    "## Create table of merged sequence length\n",
    "table(nchar(getSequences(seqtab)))"
   ]
  },
  {
   "cell_type": "markdown",
   "metadata": {},
   "source": [
    "### Perform chimera filtering"
   ]
  },
  {
   "cell_type": "code",
   "execution_count": 11,
   "metadata": {},
   "outputs": [
    {
     "name": "stderr",
     "output_type": "stream",
     "text": [
      "Identified 4 bimeras out of 18 input sequences.\n"
     ]
    },
    {
     "data": {
      "text/html": [
       "0.974470989761092"
      ],
      "text/latex": [
       "0.974470989761092"
      ],
      "text/markdown": [
       "0.974470989761092"
      ],
      "text/plain": [
       "[1] 0.974471"
      ]
     },
     "metadata": {},
     "output_type": "display_data"
    }
   ],
   "source": [
    "seqtab.nochim = removeBimeraDenovo(seqtab, method = \"consensus\", multithread=TRUE, verbose = T)\n",
    "(sum(seqtab.nochim)/sum(seqtab))"
   ]
  },
  {
   "cell_type": "markdown",
   "metadata": {},
   "source": [
    "### Follow read counts through pipeline"
   ]
  },
  {
   "cell_type": "code",
   "execution_count": 12,
   "metadata": {},
   "outputs": [
    {
     "data": {
      "text/html": [
       "<table>\n",
       "<thead><tr><th></th><th scope=col>input</th><th scope=col>filtered</th><th scope=col>denoised</th><th scope=col>merged</th><th scope=col>tabled</th><th scope=col>nonchim</th></tr></thead>\n",
       "<tbody>\n",
       "\t<tr><th scope=row>mock</th><td>22516</td><td>22515</td><td>22515</td><td>21975</td><td>21975</td><td>21414</td></tr>\n",
       "</tbody>\n",
       "</table>\n"
      ],
      "text/latex": [
       "\\begin{tabular}{r|llllll}\n",
       "  & input & filtered & denoised & merged & tabled & nonchim\\\\\n",
       "\\hline\n",
       "\tmock & 22516 & 22515 & 22515 & 21975 & 21975 & 21414\\\\\n",
       "\\end{tabular}\n"
      ],
      "text/markdown": [
       "\n",
       "| <!--/--> | input | filtered | denoised | merged | tabled | nonchim | \n",
       "|---|\n",
       "| mock | 22516 | 22515 | 22515 | 21975 | 21975 | 21414 | \n",
       "\n",
       "\n"
      ],
      "text/plain": [
       "     input filtered denoised merged tabled nonchim\n",
       "mock 22516 22515    22515    21975  21975  21414  "
      ]
     },
     "metadata": {},
     "output_type": "display_data"
    }
   ],
   "source": [
    "getN <- function(x) sum(getUniques(x))\n",
    "track <- cbind(out, getN(dadaFs), getN(mergers), rowSums(seqtab), rowSums(seqtab.nochim))\n",
    "colnames(track) <- c(\"input\", \"filtered\", \"denoised\", \"merged\", \"tabled\", \"nonchim\")\n",
    "rownames(track) <- samp_names\n",
    "track\n",
    "\n",
    "## Use if more than one sample to create table\n",
    "#getN <- function(x) sum(getUniques(x))\n",
    "#track <- cbind(out, sapply(dadaFs, getN), sapply(mergers, getN), rowSums(seqtab), rowSums(seqtab.nochim))\n",
    "#colnames(track) <- c(\"input\", \"filtered\", \"denoised\", \"merged\", \"tabled\", \"nonchim\")\n",
    "#rownames(track) <- samp_names\n",
    "\n",
    "## Save file as csv\n",
    "#write.csv(track, file = \"data/Read_distro_thru_Processing.csv\")"
   ]
  },
  {
   "cell_type": "markdown",
   "metadata": {},
   "source": [
    "### Assign Taxonomy to Variants\n",
    "\n",
    "This chunk is comprised of two components: The first assigns variants taxanomic information from the Silva database to the genus level. The second expands upon the previous assignment to add the species level if distinguishable. "
   ]
  },
  {
   "cell_type": "code",
   "execution_count": 13,
   "metadata": {},
   "outputs": [],
   "source": [
    "taxa_table = assignTaxonomy(seqtab.nochim, \"./data/database/silva_nr_v128_train_set.fa.gz\", multithread = T)\n",
    "\n",
    "## Add Species Information\n",
    "tax_silva_species = addSpecies(taxa_table, \"./data/database/silva_species_assignment_v128.fa.gz\")"
   ]
  },
  {
   "cell_type": "markdown",
   "metadata": {},
   "source": [
    "### Load Count Matrix and Taxonomy into Phyloseq Object"
   ]
  },
  {
   "cell_type": "code",
   "execution_count": 14,
   "metadata": {},
   "outputs": [
    {
     "data": {
      "text/html": [
       "<ol class=list-inline>\n",
       "\t<li>'Kingdom'</li>\n",
       "\t<li>'Phylum'</li>\n",
       "\t<li>'Class'</li>\n",
       "\t<li>'Order'</li>\n",
       "\t<li>'Family'</li>\n",
       "\t<li>'Genus'</li>\n",
       "\t<li>'Species'</li>\n",
       "</ol>\n"
      ],
      "text/latex": [
       "\\begin{enumerate*}\n",
       "\\item 'Kingdom'\n",
       "\\item 'Phylum'\n",
       "\\item 'Class'\n",
       "\\item 'Order'\n",
       "\\item 'Family'\n",
       "\\item 'Genus'\n",
       "\\item 'Species'\n",
       "\\end{enumerate*}\n"
      ],
      "text/markdown": [
       "1. 'Kingdom'\n",
       "2. 'Phylum'\n",
       "3. 'Class'\n",
       "4. 'Order'\n",
       "5. 'Family'\n",
       "6. 'Genus'\n",
       "7. 'Species'\n",
       "\n",
       "\n"
      ],
      "text/plain": [
       "[1] \"Kingdom\" \"Phylum\"  \"Class\"   \"Order\"   \"Family\"  \"Genus\"   \"Species\""
      ]
     },
     "metadata": {},
     "output_type": "display_data"
    }
   ],
   "source": [
    "ps = phyloseq(otu_table(seqtab.nochim,taxa_are_rows = FALSE), tax_table(tax_silva_species))\n",
    "colnames(tax_table(ps))"
   ]
  },
  {
   "cell_type": "markdown",
   "metadata": {},
   "source": [
    "### Count Number"
   ]
  },
  {
   "cell_type": "code",
   "execution_count": 15,
   "metadata": {},
   "outputs": [
    {
     "data": {},
     "metadata": {},
     "output_type": "display_data"
    },
    {
     "data": {
      "image/png": "[encoded data removed]",
      "text/plain": [
       "plot without title"
      ]
     },
     "metadata": {},
     "output_type": "display_data"
    }
   ],
   "source": [
    "otu_glom<-tax_glom(ps, taxrank=\"Genus\")\n",
    "\n",
    "Percentage <- transform_sample_counts(ps, function(x) {(x/sum(x))})\n",
    "\n",
    "percent = as.data.frame(t(Percentage@otu_table@.Data))\n",
    "tax = as.data.frame(Percentage@tax_table)\n",
    "\n",
    "percent$sa1 = percent$sa1*100\n",
    "new_table = as.data.frame(tax$Genus)\n",
    "new_table$percent = percent$sa1\n",
    "colnames(new_table) = c(\"Genus\", \"Read Percentage\")\n",
    "\n",
    "plot_bar(ps, fill = \"Genus\")"
   ]
  },
  {
   "cell_type": "code",
   "execution_count": 16,
   "metadata": {},
   "outputs": [
    {
     "data": {
      "text/html": [
       "<table>\n",
       "<thead><tr><th scope=col>Genus</th><th scope=col>Read Percentage</th></tr></thead>\n",
       "<tbody>\n",
       "\t<tr><td>Mycobacterium </td><td>42.03791912   </td></tr>\n",
       "\t<tr><td>Mycobacterium </td><td>27.08041468   </td></tr>\n",
       "\t<tr><td>Klebsiella    </td><td>11.72130382   </td></tr>\n",
       "\t<tr><td>Staphylococcus</td><td> 7.23358550   </td></tr>\n",
       "\t<tr><td>Nocardia      </td><td> 4.66984216   </td></tr>\n",
       "\t<tr><td>Staphylococcus</td><td> 2.18548613   </td></tr>\n",
       "\t<tr><td>Mycobacterium </td><td> 1.36359391   </td></tr>\n",
       "\t<tr><td>NA            </td><td> 1.06472401   </td></tr>\n",
       "\t<tr><td>Rhodococcus   </td><td> 0.90127954   </td></tr>\n",
       "\t<tr><td>Pseudomonas   </td><td> 0.75651443   </td></tr>\n",
       "\t<tr><td>Mycobacterium </td><td> 0.60707948   </td></tr>\n",
       "\t<tr><td>Gordonia      </td><td> 0.30820958   </td></tr>\n",
       "\t<tr><td>NA            </td><td> 0.04669842   </td></tr>\n",
       "\t<tr><td>NA            </td><td> 0.02334921   </td></tr>\n",
       "</tbody>\n",
       "</table>\n"
      ],
      "text/latex": [
       "\\begin{tabular}{r|ll}\n",
       " Genus & Read Percentage\\\\\n",
       "\\hline\n",
       "\t Mycobacterium  & 42.03791912   \\\\\n",
       "\t Mycobacterium  & 27.08041468   \\\\\n",
       "\t Klebsiella     & 11.72130382   \\\\\n",
       "\t Staphylococcus &  7.23358550   \\\\\n",
       "\t Nocardia       &  4.66984216   \\\\\n",
       "\t Staphylococcus &  2.18548613   \\\\\n",
       "\t Mycobacterium  &  1.36359391   \\\\\n",
       "\t NA             &  1.06472401   \\\\\n",
       "\t Rhodococcus    &  0.90127954   \\\\\n",
       "\t Pseudomonas    &  0.75651443   \\\\\n",
       "\t Mycobacterium  &  0.60707948   \\\\\n",
       "\t Gordonia       &  0.30820958   \\\\\n",
       "\t NA             &  0.04669842   \\\\\n",
       "\t NA             &  0.02334921   \\\\\n",
       "\\end{tabular}\n"
      ],
      "text/markdown": [
       "\n",
       "Genus | Read Percentage | \n",
       "|---|---|---|---|---|---|---|---|---|---|---|---|---|---|\n",
       "| Mycobacterium  | 42.03791912    | \n",
       "| Mycobacterium  | 27.08041468    | \n",
       "| Klebsiella     | 11.72130382    | \n",
       "| Staphylococcus |  7.23358550    | \n",
       "| Nocardia       |  4.66984216    | \n",
       "| Staphylococcus |  2.18548613    | \n",
       "| Mycobacterium  |  1.36359391    | \n",
       "| NA             |  1.06472401    | \n",
       "| Rhodococcus    |  0.90127954    | \n",
       "| Pseudomonas    |  0.75651443    | \n",
       "| Mycobacterium  |  0.60707948    | \n",
       "| Gordonia       |  0.30820958    | \n",
       "| NA             |  0.04669842    | \n",
       "| NA             |  0.02334921    | \n",
       "\n",
       "\n"
      ],
      "text/plain": [
       "   Genus          Read Percentage\n",
       "1  Mycobacterium  42.03791912    \n",
       "2  Mycobacterium  27.08041468    \n",
       "3  Klebsiella     11.72130382    \n",
       "4  Staphylococcus  7.23358550    \n",
       "5  Nocardia        4.66984216    \n",
       "6  Staphylococcus  2.18548613    \n",
       "7  Mycobacterium   1.36359391    \n",
       "8  NA              1.06472401    \n",
       "9  Rhodococcus     0.90127954    \n",
       "10 Pseudomonas     0.75651443    \n",
       "11 Mycobacterium   0.60707948    \n",
       "12 Gordonia        0.30820958    \n",
       "13 NA              0.04669842    \n",
       "14 NA              0.02334921    "
      ]
     },
     "metadata": {},
     "output_type": "display_data"
    }
   ],
   "source": [
    "new_table"
   ]
  },
  {
   "cell_type": "code",
   "execution_count": 17,
   "metadata": {},
   "outputs": [
    {
     "data": {
      "text/html": [
       "<table>\n",
       "<thead><tr><th scope=col>Genus</th><th scope=col>Frequency</th></tr></thead>\n",
       "<tbody>\n",
       "\t<tr><td>Gordonia      </td><td>1             </td></tr>\n",
       "\t<tr><td>Klebsiella    </td><td>1             </td></tr>\n",
       "\t<tr><td>Mycobacterium </td><td>4             </td></tr>\n",
       "\t<tr><td>Nocardia      </td><td>1             </td></tr>\n",
       "\t<tr><td>Pseudomonas   </td><td>1             </td></tr>\n",
       "\t<tr><td>Rhodococcus   </td><td>1             </td></tr>\n",
       "\t<tr><td>Staphylococcus</td><td>2             </td></tr>\n",
       "</tbody>\n",
       "</table>\n"
      ],
      "text/latex": [
       "\\begin{tabular}{r|ll}\n",
       " Genus & Frequency\\\\\n",
       "\\hline\n",
       "\t Gordonia       & 1             \\\\\n",
       "\t Klebsiella     & 1             \\\\\n",
       "\t Mycobacterium  & 4             \\\\\n",
       "\t Nocardia       & 1             \\\\\n",
       "\t Pseudomonas    & 1             \\\\\n",
       "\t Rhodococcus    & 1             \\\\\n",
       "\t Staphylococcus & 2             \\\\\n",
       "\\end{tabular}\n"
      ],
      "text/markdown": [
       "\n",
       "Genus | Frequency | \n",
       "|---|---|---|---|---|---|---|\n",
       "| Gordonia       | 1              | \n",
       "| Klebsiella     | 1              | \n",
       "| Mycobacterium  | 4              | \n",
       "| Nocardia       | 1              | \n",
       "| Pseudomonas    | 1              | \n",
       "| Rhodococcus    | 1              | \n",
       "| Staphylococcus | 2              | \n",
       "\n",
       "\n"
      ],
      "text/plain": [
       "  Genus          Frequency\n",
       "1 Gordonia       1        \n",
       "2 Klebsiella     1        \n",
       "3 Mycobacterium  4        \n",
       "4 Nocardia       1        \n",
       "5 Pseudomonas    1        \n",
       "6 Rhodococcus    1        \n",
       "7 Staphylococcus 2        "
      ]
     },
     "metadata": {},
     "output_type": "display_data"
    }
   ],
   "source": [
    "tab = as.data.frame(table(tax$Genus))\n",
    "colnames(tab) = c(\"Genus\", \"Frequency\")\n",
    "tab"
   ]
  },
  {
   "cell_type": "markdown",
   "metadata": {},
   "source": [
    "#### Merge Genus Level Counts"
   ]
  },
  {
   "cell_type": "code",
   "execution_count": 18,
   "metadata": {},
   "outputs": [
    {
     "data": {
      "text/html": [
       "<table>\n",
       "<thead><tr><th></th><th scope=col>Read Counts</th></tr></thead>\n",
       "<tbody>\n",
       "\t<tr><th scope=row>Mycobacterium</th><td>15223</td></tr>\n",
       "\t<tr><th scope=row>Klebsiella</th><td> 2510</td></tr>\n",
       "\t<tr><th scope=row>Staphylococcus</th><td> 2017</td></tr>\n",
       "\t<tr><th scope=row>Nocardia</th><td> 1000</td></tr>\n",
       "\t<tr><th scope=row>Rhodococcus</th><td>  193</td></tr>\n",
       "\t<tr><th scope=row>Pseudomonas</th><td>  162</td></tr>\n",
       "\t<tr><th scope=row>Gordonia</th><td>   66</td></tr>\n",
       "</tbody>\n",
       "</table>\n"
      ],
      "text/latex": [
       "\\begin{tabular}{r|l}\n",
       "  & Read Counts\\\\\n",
       "\\hline\n",
       "\tMycobacterium & 15223\\\\\n",
       "\tKlebsiella &  2510\\\\\n",
       "\tStaphylococcus &  2017\\\\\n",
       "\tNocardia &  1000\\\\\n",
       "\tRhodococcus &   193\\\\\n",
       "\tPseudomonas &   162\\\\\n",
       "\tGordonia &    66\\\\\n",
       "\\end{tabular}\n"
      ],
      "text/markdown": [
       "\n",
       "| <!--/--> | Read Counts | \n",
       "|---|---|---|---|---|---|---|\n",
       "| Mycobacterium | 15223 | \n",
       "| Klebsiella |  2510 | \n",
       "| Staphylococcus |  2017 | \n",
       "| Nocardia |  1000 | \n",
       "| Rhodococcus |   193 | \n",
       "| Pseudomonas |   162 | \n",
       "| Gordonia |    66 | \n",
       "\n",
       "\n"
      ],
      "text/plain": [
       "               Read Counts\n",
       "Mycobacterium  15223      \n",
       "Klebsiella      2510      \n",
       "Staphylococcus  2017      \n",
       "Nocardia        1000      \n",
       "Rhodococcus      193      \n",
       "Pseudomonas      162      \n",
       "Gordonia          66      "
      ]
     },
     "metadata": {},
     "output_type": "display_data"
    }
   ],
   "source": [
    "### Genus Level\n",
    "b1 = tax_glom(ps, taxrank = \"Genus\")\n",
    "\n",
    "tax_table = as.data.frame(ps@tax_table)\n",
    "genus_set = as.character(unique(tax_table$Genus))\n",
    "genus_set = genus_set[!is.na(genus_set)]\n",
    "\n",
    "\n",
    "Genus = sort(taxa_sums(b1), TRUE)[1:7]\n",
    "Genus = as.data.frame(Genus)\n",
    "\n",
    "rownames(Genus) = genus_set\n",
    "colnames(Genus) = c(\"Read Counts\")\n",
    "Genus"
   ]
  },
  {
   "cell_type": "code",
   "execution_count": null,
   "metadata": {},
   "outputs": [],
   "source": []
  }
 ],
 "metadata": {
  "kernelspec": {
   "display_name": "R",
   "language": "R",
   "name": "ir"
  },
  "language_info": {
   "codemirror_mode": "r",
   "file_extension": ".r",
   "mimetype": "text/x-r-source",
   "name": "R",
   "pygments_lexer": "r",
   "version": "3.4.4"
  }
 },
 "nbformat": 4,
 "nbformat_minor": 2
}
