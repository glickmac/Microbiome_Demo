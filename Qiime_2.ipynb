{
 "cells": [
  {
   "cell_type": "markdown",
   "metadata": {},
   "source": [
    "### Qiime 2 \n",
    "\n",
    "This walk through with the mock data is based off the tutorial shown [here](https://docs.qiime2.org/2018.2/tutorials/moving-pictures/). Additional resources and help can be found at the Qiime 2 [webpage](https://qiime2.org/) and the Qiime 2 [Forum](https://forum.qiime2.org/). Additional instructions on the installation of Qiime can be found [here](https://docs.qiime2.org/2018.2/install/)"
   ]
  },
  {
   "cell_type": "code",
   "execution_count": null,
   "metadata": {
    "collapsed": true
   },
   "outputs": [],
   "source": [
    "## Install with conda\n",
    "#!wget https://data.qiime2.org/distro/core/qiime2-2018.2-py35-osx-conda.yml\n",
    "#!conda env create -n qiime2-2018.2 --file qiime2-2018.2-py35-osx-conda.yml\n",
    "\n",
    "## Optional Cleanup \n",
    "#!rm qiime2-2018.2-py35-osx-conda.yml"
   ]
  },
  {
   "cell_type": "markdown",
   "metadata": {},
   "source": [
    "### Activate the Environment\n",
    "The following chunk tests if you have properly installed and activated the qiime2 environment. If there is an error, exit the jupyter notebook (ctrl-c) on the terminal and activate the qiime environment with **source activate qiime2-2018.2**"
   ]
  },
  {
   "cell_type": "code",
   "execution_count": 18,
   "metadata": {
    "collapsed": true
   },
   "outputs": [],
   "source": [
    "!qiime --help"
   ]
  },
  {
   "cell_type": "markdown",
   "metadata": {},
   "source": [
    "### Creating a Manifest File\n",
    "A manifest file is needed to point Qiime functions to the path of fastq.gz files. NOTE: The files must be in gzipped form. Below is an example example of a manifest file with three columns: sample-id, absolute-filepath, and direction"
   ]
  },
  {
   "cell_type": "code",
   "execution_count": 34,
   "metadata": {
    "collapsed": true
   },
   "outputs": [],
   "source": [
    "import csv\n",
    "with open(\"./Qiime_demo/manifest_file.csv\", 'r') as f:\n",
    "    data = list(csv.reader(f))"
   ]
  },
  {
   "cell_type": "code",
   "execution_count": 32,
   "metadata": {},
   "outputs": [
    {
     "data": {
      "text/plain": [
       "[['sample-id', 'absolute-filepath', 'direction'],\n",
       " ['sample-1',\n",
       "  '/Users/stronglab2/Documents/Microbiome_Demo/data/trimmed_mock_R1.fastq.gz',\n",
       "  'forward'],\n",
       " ['sample-1',\n",
       "  '/Users/stronglab2/Documents/Microbiome_Demo/data/trimmed_mock_R2.fastq.gz',\n",
       "  'reverse']]"
      ]
     },
     "execution_count": 32,
     "metadata": {},
     "output_type": "execute_result"
    }
   ],
   "source": [
    "data"
   ]
  },
  {
   "cell_type": "markdown",
   "metadata": {},
   "source": [
    "### Quality Filtering Reads and Demultiplexing Reads\n",
    "Demultiplexing and filtering reads base on quality score, more information about filtering reads and importing data can be found [here](https://docs.qiime2.org/2018.2/tutorials/importing/)"
   ]
  },
  {
   "cell_type": "code",
   "execution_count": 8,
   "metadata": {
    "collapsed": true
   },
   "outputs": [],
   "source": [
    "!qiime tools import \\\n",
    "    --type 'SampleData[PairedEndSequencesWithQuality]' \\\n",
    "    --input-path ./Qiime_demo/manifest_file.csv \\\n",
    "    --output-path ./Qiime_demo/paired-end-demux.qza \\\n",
    "    --source-format PairedEndFastqManifestPhred33"
   ]
  },
  {
   "cell_type": "markdown",
   "metadata": {
    "collapsed": true
   },
   "source": [
    "### Running Dada2 Denoising Algorithm\n",
    "Trimming both forward and reverse reads to 230 base pairs. This runs the core denoising algorithm of dada2"
   ]
  },
  {
   "cell_type": "code",
   "execution_count": 11,
   "metadata": {},
   "outputs": [
    {
     "name": "stdout",
     "output_type": "stream",
     "text": [
      "\u001b[32mSaved FeatureTable[Frequency] to: table-dada2.qza\u001b[0m\r\n",
      "\u001b[32mSaved FeatureData[Sequence] to: rep-seqs-dada2.qza\u001b[0m\r\n"
     ]
    }
   ],
   "source": [
    "!qiime dada2 denoise-paired \\\n",
    "    --i-demultiplexed-seqs ./Qiime_demo/paired-end-demux.qza \\\n",
    "    --p-trunc-len-f 230 \\\n",
    "    --p-trunc-len-r 230 \\\n",
    "    --o-representative-sequences ./Qiime_demo/rep-seqs.qza \\\n",
    "    --o-table ./Qiime_demo/table.qza"
   ]
  },
  {
   "cell_type": "markdown",
   "metadata": {
    "collapsed": true
   },
   "source": [
    "### Summarize Table from Dada2 Output"
   ]
  },
  {
   "cell_type": "code",
   "execution_count": 2,
   "metadata": {},
   "outputs": [
    {
     "name": "stdout",
     "output_type": "stream",
     "text": [
      "\u001b[32mSaved Visualization to: table.qzv\u001b[0m\r\n"
     ]
    }
   ],
   "source": [
    "!qiime feature-table summarize \\\n",
    "    --i-table ./Qiime_demo/table.qza \\\n",
    "    --o-visualization ./Qiime_demo/table.qzv"
   ]
  },
  {
   "cell_type": "code",
   "execution_count": 19,
   "metadata": {
    "collapsed": true
   },
   "outputs": [],
   "source": [
    "## View Table {Note: Interupt Kernal needed when run from Jupyter}\n",
    "#!qiime tools view ./Qiime_demo/table.qzv"
   ]
  },
  {
   "cell_type": "markdown",
   "metadata": {},
   "source": [
    "### Taxonomic Assignment\n",
    "Qiime2 uses GreenGenes 13-8 clustered at 99% and a naive bayes classifier to assign reads to taxa. "
   ]
  },
  {
   "cell_type": "code",
   "execution_count": null,
   "metadata": {
    "collapsed": true
   },
   "outputs": [],
   "source": [
    "## Download classifier\n",
    "#!wget -O \"./Qiime_demo/gg-13-8-99-515-806-nb-classifier.qza\" \"https://data.qiime2.org/2018.2/common/gg-13-8-99-515-806-nb-classifier.qza\""
   ]
  },
  {
   "cell_type": "code",
   "execution_count": 24,
   "metadata": {},
   "outputs": [
    {
     "name": "stdout",
     "output_type": "stream",
     "text": [
      "\u001b[32mSaved FeatureData[Taxonomy] to: Qiime_demo/taxonomy.qza\u001b[0m\r\n"
     ]
    }
   ],
   "source": [
    "!qiime feature-classifier classify-sklearn \\\n",
    "    --i-classifier ./Qiime_demo/gg-13-8-99-515-806-nb-classifier.qza \\\n",
    "    --i-reads ./Qiime_demo/rep-seqs.qza \\\n",
    "    --o-classification ./Qiime_demo/taxonomy.qza"
   ]
  },
  {
   "cell_type": "code",
   "execution_count": 25,
   "metadata": {},
   "outputs": [
    {
     "name": "stdout",
     "output_type": "stream",
     "text": [
      "\u001b[32mSaved Visualization to: Qiime_demo/taxonomy.qzv\u001b[0m\r\n"
     ]
    }
   ],
   "source": [
    "!qiime metadata tabulate \\\n",
    "    --m-input-file ./Qiime_demo/taxonomy.qza \\\n",
    "    --o-visualization ./Qiime_demo/taxonomy.qzv"
   ]
  },
  {
   "cell_type": "code",
   "execution_count": 36,
   "metadata": {
    "collapsed": true
   },
   "outputs": [],
   "source": [
    "## View Table {Note: Interupt Kernal needed when run from Jupyter}\n",
    "#!qiime tools view ./Qiime_demo/taxonomy.qzv"
   ]
  },
  {
   "cell_type": "markdown",
   "metadata": {},
   "source": [
    "#### Create Taxa Bar Plots"
   ]
  },
  {
   "cell_type": "code",
   "execution_count": 28,
   "metadata": {},
   "outputs": [
    {
     "name": "stdout",
     "output_type": "stream",
     "text": [
      "\u001b[32mSaved Visualization to: Qiime_demo/taxa-bar-plots.qzv\u001b[0m\r\n"
     ]
    }
   ],
   "source": [
    "!qiime taxa barplot \\\n",
    "    --i-table ./Qiime_demo/table.qza \\\n",
    "    --i-taxonomy ./Qiime_demo/taxonomy.qza \\\n",
    "    --m-metadata-file ./Qiime_demo/simple_metadata.tsv \\\n",
    "    --o-visualization ./Qiime_demo/taxa-bar-plots.qzv"
   ]
  },
  {
   "cell_type": "code",
   "execution_count": 35,
   "metadata": {
    "collapsed": true
   },
   "outputs": [],
   "source": [
    "## View Table {Note: Interupt Kernal needed when run from Jupyter}\n",
    "#!qiime tools view ./Qiime_demo/taxa-bar-plots.qzv"
   ]
  },
  {
   "cell_type": "markdown",
   "metadata": {},
   "source": [
    "### Additional Tutorials"
   ]
  },
  {
   "cell_type": "markdown",
   "metadata": {},
   "source": [
    "#### Qiime within Python"
   ]
  },
  {
   "cell_type": "code",
   "execution_count": 9,
   "metadata": {
    "collapsed": true
   },
   "outputs": [],
   "source": [
    "from qiime2 import Artifact\n",
    "from qiime2.plugins import feature_table\n",
    "unrarefied_table = Artifact.load('./Qiime_demo/table.qza')\n",
    "rarefy_result = feature_table.methods.rarefy(table=unrarefied_table, sampling_depth=10000)\n",
    "rarefied_table = rarefy_result.rarefied_table"
   ]
  },
  {
   "cell_type": "code",
   "execution_count": 10,
   "metadata": {},
   "outputs": [
    {
     "name": "stdout",
     "output_type": "stream",
     "text": [
      "# Constructed from biom file\n",
      "#OTU ID\tsample-1\n",
      "9459cc87372e0014ceb236babf6e1693\t389.0\n",
      "76e797395c8bc004db520db5b47511a4\t292.0\n",
      "731b491457472e36422564468f57fa8c\t129.0\n",
      "3a8a7409bdc33da14a01ec3e3313b9a7\t86.0\n",
      "e2f910415582cce27eded24e82d682e4\t39.0\n"
     ]
    }
   ],
   "source": [
    "import biom\n",
    "biom_table = rarefied_table.view(biom.Table)\n",
    "print(biom_table.head())"
   ]
  },
  {
   "cell_type": "markdown",
   "metadata": {},
   "source": [
    "### Create Tree for Diversity Analyses"
   ]
  },
  {
   "cell_type": "markdown",
   "metadata": {
    "collapsed": true
   },
   "source": [
    "#### Generate Tree for Phylogenetic Analysis"
   ]
  },
  {
   "cell_type": "code",
   "execution_count": 11,
   "metadata": {},
   "outputs": [
    {
     "name": "stdout",
     "output_type": "stream",
     "text": [
      "\u001b[32mSaved FeatureData[AlignedSequence] to: aligned-rep-seqs.qza\u001b[0m\r\n"
     ]
    }
   ],
   "source": [
    "!qiime alignment mafft \\\n",
    "    --i-sequences ./Qiime_demo/rep-seqs.qza \\\n",
    "    --o-alignment ./Qiime_demo/aligned-rep-seqs.qza"
   ]
  },
  {
   "cell_type": "markdown",
   "metadata": {},
   "source": [
    "#### Mask highly variable positions\n",
    "Highly variable positions add noise to the resulting phylogenetic tree"
   ]
  },
  {
   "cell_type": "code",
   "execution_count": 12,
   "metadata": {},
   "outputs": [
    {
     "name": "stdout",
     "output_type": "stream",
     "text": [
      "\u001b[32mSaved FeatureData[AlignedSequence] to: masked-aligned-rep-seqs.qza\u001b[0m\r\n"
     ]
    }
   ],
   "source": [
    "!qiime alignment mask \\\n",
    "    --i-alignment ./Qiime_demo/aligned-rep-seqs.qza \\\n",
    "    --o-masked-alignment ./Qiime_demo/masked-aligned-rep-seqs.qza"
   ]
  },
  {
   "cell_type": "markdown",
   "metadata": {},
   "source": [
    "#### Make unrooted and rooted trees\n",
    "FastTree generates a tree alignment from the masked rep set and then is rooted using midpoint rooting to place the root at the midpoint of the longest tip-to-tip distance in the unrooted tree"
   ]
  },
  {
   "cell_type": "code",
   "execution_count": 13,
   "metadata": {},
   "outputs": [
    {
     "name": "stdout",
     "output_type": "stream",
     "text": [
      "\u001b[32mSaved Phylogeny[Unrooted] to: unrooted-tree.qza\u001b[0m\r\n"
     ]
    }
   ],
   "source": [
    "## Unrooted tree\n",
    "!qiime phylogeny fasttree \\\n",
    "    --i-alignment ./Qiime_demo/masked-aligned-rep-seqs.qza \\\n",
    "    --o-tree ./Qiime_demo/unrooted-tree.qza"
   ]
  },
  {
   "cell_type": "code",
   "execution_count": 14,
   "metadata": {},
   "outputs": [
    {
     "name": "stdout",
     "output_type": "stream",
     "text": [
      "\u001b[32mSaved Phylogeny[Rooted] to: rooted-tree.qza\u001b[0m\r\n"
     ]
    }
   ],
   "source": [
    "## Rooted Tree \n",
    "!qiime phylogeny midpoint-root \\\n",
    "    --i-tree ./Qiime_demo/unrooted-tree.qza \\\n",
    "    --o-rooted-tree ./Qiime_demo/rooted-tree.qza"
   ]
  },
  {
   "cell_type": "markdown",
   "metadata": {},
   "source": [
    "### Diversity Analysis"
   ]
  },
  {
   "cell_type": "code",
   "execution_count": null,
   "metadata": {
    "collapsed": true
   },
   "outputs": [],
   "source": [
    "## NOTE: Given a sample size of one this script does not function\n",
    "!qiime diversity core-metrics-phylogenetic \\\n",
    "    --i-phylogeny ./Qiime_demo/rooted-tree.qza \\\n",
    "    --i-table ./Qiime_demo/table.qza \\\n",
    "    --p-sampling-depth 13000 \\\n",
    "    --m-metadata-file ./Qiime_demo/simple_metadata.tsv \\\n",
    "    --output-dir ./Qiime_demo/core-metrics-results"
   ]
  }
 ],
 "metadata": {
  "kernelspec": {
   "display_name": "Python 2",
   "language": "python",
   "name": "python2"
  },
  "language_info": {
   "codemirror_mode": {
    "name": "ipython",
    "version": 2
   },
   "file_extension": ".py",
   "mimetype": "text/x-python",
   "name": "python",
   "nbconvert_exporter": "python",
   "pygments_lexer": "ipython2",
   "version": "2.7.14"
  }
 },
 "nbformat": 4,
 "nbformat_minor": 2
}
